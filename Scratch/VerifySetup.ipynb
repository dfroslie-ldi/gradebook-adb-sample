{
 "cells": [
  {
   "cell_type": "code",
   "execution_count": 0,
   "metadata": {
    "application/vnd.databricks.v1+cell": {
     "cellMetadata": {
      "byteLimit": 2048000,
      "rowLimit": 10000
     },
     "inputWidgets": {},
     "nuid": "6f2a638c-e3a9-426a-be62-557331e5b7ed",
     "showTitle": false,
     "tableResultSettingsMap": {},
     "title": ""
    }
   },
   "outputs": [],
   "source": [
    "# Replace cooplakehoues with the name of your storage account.\n",
    "storage_end_point = \"cooplakehouse.dfs.core.windows.net\"\n",
    "\n",
    "# Use the name of the secret scope that you set up along with the name of the secret in the key vault containing the storage account access key.\n",
    "my_scope = \"coop-lakehouse-scope\"\n",
    "my_key = \"cooplakehouse-key\"\n",
    "\n",
    "spark.conf.set(\n",
    "    \"fs.azure.account.key.\" + storage_end_point,\n",
    "    dbutils.secrets.get(scope=my_scope, key=my_key)\n",
    ")\n",
    "\n",
    "# Replace the container name (lakehouseblogstore) and storage account name (cooplakehouse) in the uri.\n",
    "uri = \"abfss://lakehouseblobstore@cooplakehouse.dfs.core.windows.net/\""
   ]
  },
  {
   "cell_type": "code",
   "execution_count": 0,
   "metadata": {
    "application/vnd.databricks.v1+cell": {
     "cellMetadata": {
      "byteLimit": 2048000,
      "rowLimit": 10000
     },
     "inputWidgets": {},
     "nuid": "2dc59844-9211-4c0c-a391-d5a4498f8f3a",
     "showTitle": false,
     "tableResultSettingsMap": {},
     "title": ""
    }
   },
   "outputs": [],
   "source": [
    "# Read and display the student info file to confirm connections.\n",
    "student_file = uri + \"TrainingFiles/StudentInfo.csv\"\n",
    "\n",
    "student_df = spark.read.format(\"csv\").option(\"header\", \"true\").load(student_file)\n",
    "\n",
    "display(student_df)"
   ]
  }
 ],
 "metadata": {
  "application/vnd.databricks.v1+notebook": {
   "computePreferences": null,
   "dashboards": [],
   "environmentMetadata": {
    "base_environment": "",
    "environment_version": "2"
   },
   "language": "python",
   "notebookMetadata": {
    "pythonIndentUnit": 4
   },
   "notebookName": "VerifySetup",
   "widgets": {}
  },
  "language_info": {
   "name": "python"
  }
 },
 "nbformat": 4,
 "nbformat_minor": 0
}

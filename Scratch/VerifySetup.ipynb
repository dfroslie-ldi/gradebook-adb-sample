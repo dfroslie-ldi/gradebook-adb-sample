{
 "cells": [
  {
   "cell_type": "code",
   "execution_count": 0,
   "metadata": {
    "application/vnd.databricks.v1+cell": {
     "cellMetadata": {
      "byteLimit": 2048000,
      "rowLimit": 10000
     },
     "inputWidgets": {},
     "nuid": "2afdfd68-3dd3-47d9-bf5b-4e9c72b639a4",
     "showTitle": false,
     "tableResultSettingsMap": {},
     "title": ""
    }
   },
   "outputs": [
    {
     "output_type": "display_data",
     "data": {
      "text/html": [
       "<style scoped>\n",
       "  .table-result-container {\n",
       "    max-height: 300px;\n",
       "    overflow: auto;\n",
       "  }\n",
       "  table, th, td {\n",
       "    border: 1px solid black;\n",
       "    border-collapse: collapse;\n",
       "  }\n",
       "  th, td {\n",
       "    padding: 5px;\n",
       "  }\n",
       "  th {\n",
       "    text-align: left;\n",
       "  }\n",
       "</style><div class='table-result-container'><table class='table-result'><thead style='background-color: white'><tr><th>name</th></tr></thead><tbody><tr><td>coop-lakehouse-scope</td></tr></tbody></table></div>"
      ]
     },
     "metadata": {
      "application/vnd.databricks.v1+output": {
       "addedWidgets": {},
       "aggData": [],
       "aggError": "",
       "aggOverflow": false,
       "aggSchema": [],
       "aggSeriesLimitReached": false,
       "aggType": "",
       "arguments": {},
       "columnCustomDisplayInfos": {},
       "data": [
        [
         "coop-lakehouse-scope"
        ]
       ],
       "datasetInfos": [],
       "dbfsResultPath": null,
       "isJsonSchema": true,
       "metadata": {},
       "overflow": false,
       "plotOptions": {
        "customPlotOptions": {},
        "displayType": "table",
        "pivotAggregation": null,
        "pivotColumns": null,
        "xColumns": null,
        "yColumns": null
       },
       "removedWidgets": [],
       "schema": [
        {
         "metadata": "{}",
         "name": "name",
         "type": "\"string\""
        }
       ],
       "type": "table"
      }
     },
     "output_type": "display_data"
    }
   ],
   "source": [
    "# List all secret scopes\n",
    "scopes = dbutils.secrets.listScopes()\n",
    "display(scopes)"
   ]
  },
  {
   "cell_type": "code",
   "execution_count": 0,
   "metadata": {
    "application/vnd.databricks.v1+cell": {
     "cellMetadata": {
      "byteLimit": 2048000,
      "rowLimit": 10000
     },
     "inputWidgets": {},
     "nuid": "c94a64f3-9fc1-4996-b6b5-898781e5246f",
     "showTitle": false,
     "tableResultSettingsMap": {},
     "title": ""
    }
   },
   "outputs": [
    {
     "output_type": "display_data",
     "data": {
      "text/html": [
       "<style scoped>\n",
       "  .table-result-container {\n",
       "    max-height: 300px;\n",
       "    overflow: auto;\n",
       "  }\n",
       "  table, th, td {\n",
       "    border: 1px solid black;\n",
       "    border-collapse: collapse;\n",
       "  }\n",
       "  th, td {\n",
       "    padding: 5px;\n",
       "  }\n",
       "  th {\n",
       "    text-align: left;\n",
       "  }\n",
       "</style><div class='table-result-container'><table class='table-result'><thead style='background-color: white'><tr><th>key</th></tr></thead><tbody><tr><td>cooplakehouse-key</td></tr></tbody></table></div>"
      ]
     },
     "metadata": {
      "application/vnd.databricks.v1+output": {
       "addedWidgets": {},
       "aggData": [],
       "aggError": "",
       "aggOverflow": false,
       "aggSchema": [],
       "aggSeriesLimitReached": false,
       "aggType": "",
       "arguments": {},
       "columnCustomDisplayInfos": {},
       "data": [
        [
         "cooplakehouse-key"
        ]
       ],
       "datasetInfos": [],
       "dbfsResultPath": null,
       "isJsonSchema": true,
       "metadata": {},
       "overflow": false,
       "plotOptions": {
        "customPlotOptions": {},
        "displayType": "table",
        "pivotAggregation": null,
        "pivotColumns": null,
        "xColumns": null,
        "yColumns": null
       },
       "removedWidgets": [],
       "schema": [
        {
         "metadata": "{}",
         "name": "key",
         "type": "\"string\""
        }
       ],
       "type": "table"
      }
     },
     "output_type": "display_data"
    }
   ],
   "source": [
    "# List all secrets in a specific secret scope\n",
    "secrets = dbutils.secrets.list(\"coop-lakehouse-scope\")\n",
    "display(secrets)"
   ]
  },
  {
   "cell_type": "code",
   "execution_count": 0,
   "metadata": {
    "application/vnd.databricks.v1+cell": {
     "cellMetadata": {
      "byteLimit": 2048000,
      "rowLimit": 10000
     },
     "inputWidgets": {},
     "nuid": "6f2a638c-e3a9-426a-be62-557331e5b7ed",
     "showTitle": false,
     "tableResultSettingsMap": {},
     "title": ""
    }
   },
   "outputs": [],
   "source": [
    "# Replace cooplakehoues with the name of your storage account.\n",
    "storage_end_point = \"cooplakehouse.dfs.core.windows.net\"\n",
    "\n",
    "# Use the name of the secret scope that you set up along with the name of the secret in the key vault containing the storage account access key.\n",
    "my_scope = \"coop-lakehouse-scope\"\n",
    "my_key = \"cooplakehouse-key\"\n",
    "\n",
    "spark.conf.set(\n",
    "    \"fs.azure.account.key.\" + storage_end_point,\n",
    "    dbutils.secrets.get(scope=my_scope, key=my_key)\n",
    ")\n",
    "\n",
    "# Replace the container name (lakehouseblogstore) and storage account name (cooplakehouse) in the uri.\n",
    "uri = \"abfss://lakehouseblobstore@cooplakehouse.dfs.core.windows.net/\""
   ]
  },
  {
   "cell_type": "code",
   "execution_count": 0,
   "metadata": {
    "application/vnd.databricks.v1+cell": {
     "cellMetadata": {
      "byteLimit": 2048000,
      "rowLimit": 10000
     },
     "inputWidgets": {},
     "nuid": "2dc59844-9211-4c0c-a391-d5a4498f8f3a",
     "showTitle": false,
     "tableResultSettingsMap": {},
     "title": ""
    }
   },
   "outputs": [
    {
     "output_type": "display_data",
     "data": {
      "text/html": [
       "<style scoped>\n",
       "  .table-result-container {\n",
       "    max-height: 300px;\n",
       "    overflow: auto;\n",
       "  }\n",
       "  table, th, td {\n",
       "    border: 1px solid black;\n",
       "    border-collapse: collapse;\n",
       "  }\n",
       "  th, td {\n",
       "    padding: 5px;\n",
       "  }\n",
       "  th {\n",
       "    text-align: left;\n",
       "  }\n",
       "</style><div class='table-result-container'><table class='table-result'><thead style='background-color: white'><tr><th>StudentID</th><th>Major</th><th>HomeState</th></tr></thead><tbody><tr><td>1</td><td>Computer Science</td><td>North Dakota</td></tr><tr><td>2</td><td>Computer Science</td><td>Minnesota</td></tr><tr><td>3</td><td>Computer Science</td><td>Minnesota</td></tr><tr><td>4</td><td>Computer Science</td><td>North Dakota</td></tr><tr><td>5</td><td>Computer Science</td><td>Montana</td></tr><tr><td>6</td><td>Computer Science</td><td>Minnesota</td></tr><tr><td>7</td><td>Computer Science</td><td>Minnesota</td></tr><tr><td>8</td><td>Computer Engineering</td><td>Montana</td></tr><tr><td>9</td><td>Other</td><td>North Dakota</td></tr><tr><td>10</td><td>Computer Science</td><td>North Dakota</td></tr><tr><td>11</td><td>Computer Science</td><td>Montana</td></tr><tr><td>12</td><td>Other</td><td>Minnesota</td></tr><tr><td>13</td><td>Computer Engineering</td><td>North Dakota</td></tr><tr><td>14</td><td>Other</td><td>Montana</td></tr><tr><td>15</td><td>Computer Science</td><td>Minnesota</td></tr><tr><td>16</td><td>Computer Science</td><td>Minnesota</td></tr><tr><td>17</td><td>Computer Science</td><td>North Dakota</td></tr><tr><td>18</td><td>Computer Science</td><td>Other</td></tr><tr><td>19</td><td>Computer Science</td><td>Minnesota</td></tr><tr><td>20</td><td>Other</td><td>North Dakota</td></tr><tr><td>21</td><td>Computer Science</td><td>North Dakota</td></tr><tr><td>22</td><td>Computer Science</td><td>North Dakota</td></tr><tr><td>23</td><td>Computer Science</td><td>North Dakota</td></tr><tr><td>24</td><td>Computer Engineering</td><td>Other</td></tr><tr><td>25</td><td>Computer Science</td><td>North Dakota</td></tr><tr><td>26</td><td>Computer Engineering</td><td>Minnesota</td></tr><tr><td>27</td><td>Computer Science</td><td>Minnesota</td></tr><tr><td>28</td><td>Other</td><td>Minnesota</td></tr><tr><td>29</td><td>Computer Science</td><td>North Dakota</td></tr><tr><td>30</td><td>Computer Science</td><td>North Dakota</td></tr><tr><td>31</td><td>Computer Science</td><td>North Dakota</td></tr><tr><td>32</td><td>Computer Engineering</td><td>Minnesota</td></tr><tr><td>33</td><td>Computer Science</td><td>North Dakota</td></tr><tr><td>34</td><td>Computer Science</td><td>Minnesota</td></tr><tr><td>35</td><td>Computer Science</td><td>Minnesota</td></tr><tr><td>36</td><td>Computer Science</td><td>North Dakota</td></tr><tr><td>37</td><td>Computer Science</td><td>Other</td></tr><tr><td>38</td><td>Computer Engineering</td><td>Minnesota</td></tr><tr><td>39</td><td>Computer Science</td><td>Other</td></tr><tr><td>40</td><td>Computer Science</td><td>Minnesota</td></tr><tr><td>41</td><td>Computer Science</td><td>North Dakota</td></tr><tr><td>42</td><td>Computer Science</td><td>North Dakota</td></tr><tr><td>43</td><td>Computer Science</td><td>North Dakota</td></tr><tr><td>44</td><td>Computer Science</td><td>North Dakota</td></tr><tr><td>45</td><td>Computer Science</td><td>Minnesota</td></tr><tr><td>46</td><td>Computer Science</td><td>Minnesota</td></tr><tr><td>47</td><td>Computer Science</td><td>North Dakota</td></tr><tr><td>48</td><td>Computer Engineering</td><td>Minnesota</td></tr><tr><td>49</td><td>Computer Science</td><td>Minnesota</td></tr><tr><td>50</td><td>Computer Science</td><td>Minnesota</td></tr></tbody></table></div>"
      ]
     },
     "metadata": {
      "application/vnd.databricks.v1+output": {
       "addedWidgets": {},
       "aggData": [],
       "aggError": "",
       "aggOverflow": false,
       "aggSchema": [],
       "aggSeriesLimitReached": false,
       "aggType": "",
       "arguments": {},
       "columnCustomDisplayInfos": {},
       "data": [
        [
         "1",
         "Computer Science",
         "North Dakota"
        ],
        [
         "2",
         "Computer Science",
         "Minnesota"
        ],
        [
         "3",
         "Computer Science",
         "Minnesota"
        ],
        [
         "4",
         "Computer Science",
         "North Dakota"
        ],
        [
         "5",
         "Computer Science",
         "Montana"
        ],
        [
         "6",
         "Computer Science",
         "Minnesota"
        ],
        [
         "7",
         "Computer Science",
         "Minnesota"
        ],
        [
         "8",
         "Computer Engineering",
         "Montana"
        ],
        [
         "9",
         "Other",
         "North Dakota"
        ],
        [
         "10",
         "Computer Science",
         "North Dakota"
        ],
        [
         "11",
         "Computer Science",
         "Montana"
        ],
        [
         "12",
         "Other",
         "Minnesota"
        ],
        [
         "13",
         "Computer Engineering",
         "North Dakota"
        ],
        [
         "14",
         "Other",
         "Montana"
        ],
        [
         "15",
         "Computer Science",
         "Minnesota"
        ],
        [
         "16",
         "Computer Science",
         "Minnesota"
        ],
        [
         "17",
         "Computer Science",
         "North Dakota"
        ],
        [
         "18",
         "Computer Science",
         "Other"
        ],
        [
         "19",
         "Computer Science",
         "Minnesota"
        ],
        [
         "20",
         "Other",
         "North Dakota"
        ],
        [
         "21",
         "Computer Science",
         "North Dakota"
        ],
        [
         "22",
         "Computer Science",
         "North Dakota"
        ],
        [
         "23",
         "Computer Science",
         "North Dakota"
        ],
        [
         "24",
         "Computer Engineering",
         "Other"
        ],
        [
         "25",
         "Computer Science",
         "North Dakota"
        ],
        [
         "26",
         "Computer Engineering",
         "Minnesota"
        ],
        [
         "27",
         "Computer Science",
         "Minnesota"
        ],
        [
         "28",
         "Other",
         "Minnesota"
        ],
        [
         "29",
         "Computer Science",
         "North Dakota"
        ],
        [
         "30",
         "Computer Science",
         "North Dakota"
        ],
        [
         "31",
         "Computer Science",
         "North Dakota"
        ],
        [
         "32",
         "Computer Engineering",
         "Minnesota"
        ],
        [
         "33",
         "Computer Science",
         "North Dakota"
        ],
        [
         "34",
         "Computer Science",
         "Minnesota"
        ],
        [
         "35",
         "Computer Science",
         "Minnesota"
        ],
        [
         "36",
         "Computer Science",
         "North Dakota"
        ],
        [
         "37",
         "Computer Science",
         "Other"
        ],
        [
         "38",
         "Computer Engineering",
         "Minnesota"
        ],
        [
         "39",
         "Computer Science",
         "Other"
        ],
        [
         "40",
         "Computer Science",
         "Minnesota"
        ],
        [
         "41",
         "Computer Science",
         "North Dakota"
        ],
        [
         "42",
         "Computer Science",
         "North Dakota"
        ],
        [
         "43",
         "Computer Science",
         "North Dakota"
        ],
        [
         "44",
         "Computer Science",
         "North Dakota"
        ],
        [
         "45",
         "Computer Science",
         "Minnesota"
        ],
        [
         "46",
         "Computer Science",
         "Minnesota"
        ],
        [
         "47",
         "Computer Science",
         "North Dakota"
        ],
        [
         "48",
         "Computer Engineering",
         "Minnesota"
        ],
        [
         "49",
         "Computer Science",
         "Minnesota"
        ],
        [
         "50",
         "Computer Science",
         "Minnesota"
        ]
       ],
       "datasetInfos": [],
       "dbfsResultPath": null,
       "isJsonSchema": true,
       "metadata": {},
       "overflow": false,
       "plotOptions": {
        "customPlotOptions": {},
        "displayType": "table",
        "pivotAggregation": null,
        "pivotColumns": null,
        "xColumns": null,
        "yColumns": null
       },
       "removedWidgets": [],
       "schema": [
        {
         "metadata": "{}",
         "name": "StudentID",
         "type": "\"string\""
        },
        {
         "metadata": "{}",
         "name": "Major",
         "type": "\"string\""
        },
        {
         "metadata": "{}",
         "name": "HomeState",
         "type": "\"string\""
        }
       ],
       "type": "table"
      }
     },
     "output_type": "display_data"
    }
   ],
   "source": [
    "# Read and display the student info file to confirm connections.\n",
    "student_file = uri + \"TrainingFiles/StudentInfo.csv\"\n",
    "\n",
    "student_df = spark.read.format(\"csv\").option(\"header\", \"true\").load(student_file)\n",
    "\n",
    "display(student_df)"
   ]
  },
  {
   "cell_type": "code",
   "execution_count": 0,
   "metadata": {
    "application/vnd.databricks.v1+cell": {
     "cellMetadata": {
      "byteLimit": 2048000,
      "rowLimit": 10000
     },
     "inputWidgets": {},
     "nuid": "dce0ac6e-8392-4d3d-ad35-504eec4ddd71",
     "showTitle": false,
     "tableResultSettingsMap": {},
     "title": ""
    }
   },
   "outputs": [],
   "source": [
    "minnesota_students_df = student_df.filter(student_df.HomeState == \"Minnesota\")\n"
   ]
  },
  {
   "cell_type": "code",
   "execution_count": 0,
   "metadata": {
    "application/vnd.databricks.v1+cell": {
     "cellMetadata": {
      "byteLimit": 2048000,
      "rowLimit": 10000
     },
     "inputWidgets": {},
     "nuid": "05b58130-2540-49e2-bc73-bb991c437dda",
     "showTitle": false,
     "tableResultSettingsMap": {},
     "title": ""
    }
   },
   "outputs": [
    {
     "output_type": "display_data",
     "data": {
      "text/html": [
       "<style scoped>\n",
       "  .table-result-container {\n",
       "    max-height: 300px;\n",
       "    overflow: auto;\n",
       "  }\n",
       "  table, th, td {\n",
       "    border: 1px solid black;\n",
       "    border-collapse: collapse;\n",
       "  }\n",
       "  th, td {\n",
       "    padding: 5px;\n",
       "  }\n",
       "  th {\n",
       "    text-align: left;\n",
       "  }\n",
       "</style><div class='table-result-container'><table class='table-result'><thead style='background-color: white'><tr><th>StudentID</th><th>Major</th><th>HomeState</th></tr></thead><tbody><tr><td>2</td><td>Computer Science</td><td>Minnesota</td></tr><tr><td>3</td><td>Computer Science</td><td>Minnesota</td></tr><tr><td>6</td><td>Computer Science</td><td>Minnesota</td></tr><tr><td>7</td><td>Computer Science</td><td>Minnesota</td></tr><tr><td>12</td><td>Other</td><td>Minnesota</td></tr><tr><td>15</td><td>Computer Science</td><td>Minnesota</td></tr><tr><td>16</td><td>Computer Science</td><td>Minnesota</td></tr><tr><td>19</td><td>Computer Science</td><td>Minnesota</td></tr><tr><td>26</td><td>Computer Engineering</td><td>Minnesota</td></tr><tr><td>27</td><td>Computer Science</td><td>Minnesota</td></tr><tr><td>28</td><td>Other</td><td>Minnesota</td></tr><tr><td>32</td><td>Computer Engineering</td><td>Minnesota</td></tr><tr><td>34</td><td>Computer Science</td><td>Minnesota</td></tr><tr><td>35</td><td>Computer Science</td><td>Minnesota</td></tr><tr><td>38</td><td>Computer Engineering</td><td>Minnesota</td></tr><tr><td>40</td><td>Computer Science</td><td>Minnesota</td></tr><tr><td>45</td><td>Computer Science</td><td>Minnesota</td></tr><tr><td>46</td><td>Computer Science</td><td>Minnesota</td></tr><tr><td>48</td><td>Computer Engineering</td><td>Minnesota</td></tr><tr><td>49</td><td>Computer Science</td><td>Minnesota</td></tr><tr><td>50</td><td>Computer Science</td><td>Minnesota</td></tr></tbody></table></div>"
      ]
     },
     "metadata": {
      "application/vnd.databricks.v1+output": {
       "addedWidgets": {},
       "aggData": [],
       "aggError": "",
       "aggOverflow": false,
       "aggSchema": [],
       "aggSeriesLimitReached": false,
       "aggType": "",
       "arguments": {},
       "columnCustomDisplayInfos": {},
       "data": [
        [
         "2",
         "Computer Science",
         "Minnesota"
        ],
        [
         "3",
         "Computer Science",
         "Minnesota"
        ],
        [
         "6",
         "Computer Science",
         "Minnesota"
        ],
        [
         "7",
         "Computer Science",
         "Minnesota"
        ],
        [
         "12",
         "Other",
         "Minnesota"
        ],
        [
         "15",
         "Computer Science",
         "Minnesota"
        ],
        [
         "16",
         "Computer Science",
         "Minnesota"
        ],
        [
         "19",
         "Computer Science",
         "Minnesota"
        ],
        [
         "26",
         "Computer Engineering",
         "Minnesota"
        ],
        [
         "27",
         "Computer Science",
         "Minnesota"
        ],
        [
         "28",
         "Other",
         "Minnesota"
        ],
        [
         "32",
         "Computer Engineering",
         "Minnesota"
        ],
        [
         "34",
         "Computer Science",
         "Minnesota"
        ],
        [
         "35",
         "Computer Science",
         "Minnesota"
        ],
        [
         "38",
         "Computer Engineering",
         "Minnesota"
        ],
        [
         "40",
         "Computer Science",
         "Minnesota"
        ],
        [
         "45",
         "Computer Science",
         "Minnesota"
        ],
        [
         "46",
         "Computer Science",
         "Minnesota"
        ],
        [
         "48",
         "Computer Engineering",
         "Minnesota"
        ],
        [
         "49",
         "Computer Science",
         "Minnesota"
        ],
        [
         "50",
         "Computer Science",
         "Minnesota"
        ]
       ],
       "datasetInfos": [],
       "dbfsResultPath": null,
       "isJsonSchema": true,
       "metadata": {},
       "overflow": false,
       "plotOptions": {
        "customPlotOptions": {},
        "displayType": "table",
        "pivotAggregation": null,
        "pivotColumns": null,
        "xColumns": null,
        "yColumns": null
       },
       "removedWidgets": [],
       "schema": [
        {
         "metadata": "{}",
         "name": "StudentID",
         "type": "\"string\""
        },
        {
         "metadata": "{}",
         "name": "Major",
         "type": "\"string\""
        },
        {
         "metadata": "{}",
         "name": "HomeState",
         "type": "\"string\""
        }
       ],
       "type": "table"
      }
     },
     "output_type": "display_data"
    }
   ],
   "source": [
    "display(minnesota_students_df)"
   ]
  }
 ],
 "metadata": {
  "application/vnd.databricks.v1+notebook": {
   "computePreferences": null,
   "dashboards": [],
   "environmentMetadata": {
    "base_environment": "",
    "environment_version": "2"
   },
   "language": "python",
   "notebookMetadata": {
    "mostRecentlyExecutedCommandWithImplicitDF": {
     "commandId": 5386267993814751,
     "dataframes": [
      "_sqldf"
     ]
    },
    "pythonIndentUnit": 4
   },
   "notebookName": "VerifySetup",
   "widgets": {}
  },
  "language_info": {
   "name": "python"
  }
 },
 "nbformat": 4,
 "nbformat_minor": 0
}

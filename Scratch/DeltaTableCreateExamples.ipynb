{
 "cells": [
  {
   "cell_type": "markdown",
   "metadata": {
    "application/vnd.databricks.v1+cell": {
     "cellMetadata": {},
     "inputWidgets": {},
     "nuid": "9a6f2f64-4fd0-4a21-9a65-febc2225efec",
     "showTitle": false,
     "tableResultSettingsMap": {},
     "title": ""
    }
   },
   "source": [
    "# Delta Table Examples\n",
    "\n",
    "Examples of creating and deleting delta tables and schemas."
   ]
  },
  {
   "cell_type": "code",
   "execution_count": 0,
   "metadata": {
    "application/vnd.databricks.v1+cell": {
     "cellMetadata": {
      "byteLimit": 2048000,
      "rowLimit": 10000
     },
     "inputWidgets": {},
     "nuid": "fa1ff86f-531c-43bb-9db1-a1f696e0fef7",
     "showTitle": false,
     "tableResultSettingsMap": {},
     "title": ""
    }
   },
   "outputs": [],
   "source": [
    "# Replace cooplakehoues with the name of your storage account.\n",
    "storage_end_point = \"cooplakehouse.dfs.core.windows.net\"\n",
    "\n",
    "# Use the name of the secret scope that you set up along with the name of the secret in the key vault containing the storage account access key.\n",
    "my_scope = \"coop-lakehouse-scope\"\n",
    "my_key = \"cooplakehouse-key\"\n",
    "\n",
    "spark.conf.set(\n",
    "    \"fs.azure.account.key.\" + storage_end_point,\n",
    "    dbutils.secrets.get(scope=my_scope, key=my_key)\n",
    ")\n",
    "\n",
    "# Replace the container name (lakehouseblogstore) and storage account name (cooplakehouse) in the uri.\n",
    "uri = \"abfss://lakehouseblobstore@cooplakehouse.dfs.core.windows.net/TrainingFiles/\""
   ]
  },
  {
   "cell_type": "code",
   "execution_count": 0,
   "metadata": {
    "application/vnd.databricks.v1+cell": {
     "cellMetadata": {
      "byteLimit": 2048000,
      "implicitDf": true,
      "rowLimit": 10000
     },
     "inputWidgets": {},
     "nuid": "3532f83a-e3fd-4707-a520-88099a66d261",
     "showTitle": false,
     "tableResultSettingsMap": {},
     "title": ""
    }
   },
   "outputs": [
    {
     "output_type": "display_data",
     "data": {
      "text/html": [
       "<style scoped>\n",
       "  .table-result-container {\n",
       "    max-height: 300px;\n",
       "    overflow: auto;\n",
       "  }\n",
       "  table, th, td {\n",
       "    border: 1px solid black;\n",
       "    border-collapse: collapse;\n",
       "  }\n",
       "  th, td {\n",
       "    padding: 5px;\n",
       "  }\n",
       "  th {\n",
       "    text-align: left;\n",
       "  }\n",
       "</style><div class='table-result-container'><table class='table-result'><thead style='background-color: white'><tr></tr></thead><tbody></tbody></table></div>"
      ]
     },
     "metadata": {
      "application/vnd.databricks.v1+output": {
       "addedWidgets": {},
       "aggData": [],
       "aggError": "",
       "aggOverflow": false,
       "aggSchema": [],
       "aggSeriesLimitReached": false,
       "aggType": "",
       "arguments": {},
       "columnCustomDisplayInfos": {},
       "data": [],
       "datasetInfos": [],
       "dbfsResultPath": null,
       "isJsonSchema": true,
       "metadata": {
        "dataframeName": null
       },
       "overflow": false,
       "plotOptions": {
        "customPlotOptions": {},
        "displayType": "table",
        "pivotAggregation": null,
        "pivotColumns": null,
        "xColumns": null,
        "yColumns": null
       },
       "removedWidgets": [],
       "schema": [],
       "type": "table"
      }
     },
     "output_type": "display_data"
    }
   ],
   "source": [
    "%sql\n",
    "-- Create a new schema for this example.  \n",
    "CREATE SCHEMA IF NOT EXISTS grades"
   ]
  },
  {
   "cell_type": "code",
   "execution_count": 0,
   "metadata": {
    "application/vnd.databricks.v1+cell": {
     "cellMetadata": {
      "byteLimit": 2048000,
      "implicitDf": true,
      "rowLimit": 10000
     },
     "inputWidgets": {},
     "nuid": "c356e203-2be7-4b5c-b388-a2f723f759fe",
     "showTitle": false,
     "tableResultSettingsMap": {},
     "title": ""
    }
   },
   "outputs": [
    {
     "output_type": "display_data",
     "data": {
      "text/html": [
       "<style scoped>\n",
       "  .table-result-container {\n",
       "    max-height: 300px;\n",
       "    overflow: auto;\n",
       "  }\n",
       "  table, th, td {\n",
       "    border: 1px solid black;\n",
       "    border-collapse: collapse;\n",
       "  }\n",
       "  th, td {\n",
       "    padding: 5px;\n",
       "  }\n",
       "  th {\n",
       "    text-align: left;\n",
       "  }\n",
       "</style><div class='table-result-container'><table class='table-result'><thead style='background-color: white'><tr></tr></thead><tbody></tbody></table></div>"
      ]
     },
     "metadata": {
      "application/vnd.databricks.v1+output": {
       "addedWidgets": {},
       "aggData": [],
       "aggError": "",
       "aggOverflow": false,
       "aggSchema": [],
       "aggSeriesLimitReached": false,
       "aggType": "",
       "arguments": {},
       "columnCustomDisplayInfos": {},
       "data": [],
       "datasetInfos": [],
       "dbfsResultPath": null,
       "isJsonSchema": true,
       "metadata": {
        "dataframeName": null
       },
       "overflow": false,
       "plotOptions": {
        "customPlotOptions": {},
        "displayType": "table",
        "pivotAggregation": null,
        "pivotColumns": null,
        "xColumns": null,
        "yColumns": null
       },
       "removedWidgets": [],
       "schema": [],
       "type": "table"
      }
     },
     "output_type": "display_data"
    }
   ],
   "source": [
    "%sql\n",
    "-- Example for dropping the table if it exists.\n",
    "DROP TABLE IF EXISTS grades.dim_student_info\n",
    "\n",
    "-- For an external table, you will need to manually delete the Parquet and delta metadata files in the storage account.\n"
   ]
  },
  {
   "cell_type": "code",
   "execution_count": 0,
   "metadata": {
    "application/vnd.databricks.v1+cell": {
     "cellMetadata": {
      "byteLimit": 2048000,
      "implicitDf": true,
      "rowLimit": 10000
     },
     "inputWidgets": {},
     "nuid": "87f9b348-7d70-4598-a85e-2eaddb17c281",
     "showTitle": false,
     "tableResultSettingsMap": {},
     "title": ""
    }
   },
   "outputs": [
    {
     "output_type": "display_data",
     "data": {
      "text/html": [
       "<style scoped>\n",
       "  .table-result-container {\n",
       "    max-height: 300px;\n",
       "    overflow: auto;\n",
       "  }\n",
       "  table, th, td {\n",
       "    border: 1px solid black;\n",
       "    border-collapse: collapse;\n",
       "  }\n",
       "  th, td {\n",
       "    padding: 5px;\n",
       "  }\n",
       "  th {\n",
       "    text-align: left;\n",
       "  }\n",
       "</style><div class='table-result-container'><table class='table-result'><thead style='background-color: white'><tr></tr></thead><tbody></tbody></table></div>"
      ]
     },
     "metadata": {
      "application/vnd.databricks.v1+output": {
       "addedWidgets": {},
       "aggData": [],
       "aggError": "",
       "aggOverflow": false,
       "aggSchema": [],
       "aggSeriesLimitReached": false,
       "aggType": "",
       "arguments": {},
       "columnCustomDisplayInfos": {},
       "data": [],
       "datasetInfos": [],
       "dbfsResultPath": null,
       "isJsonSchema": true,
       "metadata": {
        "dataframeName": null
       },
       "overflow": false,
       "plotOptions": {
        "customPlotOptions": {},
        "displayType": "table",
        "pivotAggregation": null,
        "pivotColumns": null,
        "xColumns": null,
        "yColumns": null
       },
       "removedWidgets": [],
       "schema": [],
       "type": "table"
      }
     },
     "output_type": "display_data"
    }
   ],
   "source": [
    "%sql\n",
    "DROP SCHEMA IF EXISTS grades CASCADE"
   ]
  },
  {
   "cell_type": "code",
   "execution_count": 0,
   "metadata": {
    "application/vnd.databricks.v1+cell": {
     "cellMetadata": {
      "byteLimit": 2048000,
      "implicitDf": true,
      "rowLimit": 10000
     },
     "inputWidgets": {},
     "nuid": "b83a667a-dc30-4a83-91f2-3cb3fe2992d3",
     "showTitle": false,
     "tableResultSettingsMap": {},
     "title": ""
    }
   },
   "outputs": [
    {
     "output_type": "display_data",
     "data": {
      "text/html": [
       "<style scoped>\n",
       "  .table-result-container {\n",
       "    max-height: 300px;\n",
       "    overflow: auto;\n",
       "  }\n",
       "  table, th, td {\n",
       "    border: 1px solid black;\n",
       "    border-collapse: collapse;\n",
       "  }\n",
       "  th, td {\n",
       "    padding: 5px;\n",
       "  }\n",
       "  th {\n",
       "    text-align: left;\n",
       "  }\n",
       "</style><div class='table-result-container'><table class='table-result'><thead style='background-color: white'><tr></tr></thead><tbody></tbody></table></div>"
      ]
     },
     "metadata": {
      "application/vnd.databricks.v1+output": {
       "addedWidgets": {},
       "aggData": [],
       "aggError": "",
       "aggOverflow": false,
       "aggSchema": [],
       "aggSeriesLimitReached": false,
       "aggType": "",
       "arguments": {},
       "columnCustomDisplayInfos": {},
       "data": [],
       "datasetInfos": [],
       "dbfsResultPath": null,
       "isJsonSchema": true,
       "metadata": {
        "dataframeName": null
       },
       "overflow": false,
       "plotOptions": {
        "customPlotOptions": {},
        "displayType": "table",
        "pivotAggregation": null,
        "pivotColumns": null,
        "xColumns": null,
        "yColumns": null
       },
       "removedWidgets": [],
       "schema": [],
       "type": "table"
      }
     },
     "output_type": "display_data"
    }
   ],
   "source": [
    "%sql\n",
    "-- Create the table using an external location.\n",
    "CREATE TABLE IF NOT EXISTS grades.dim_student_info\n",
    "USING DELTA LOCATION \"abfss://lakehouseblobstore@cooplakehouse.dfs.core.windows.net/TrainingFiles/DIM_StudentInfoTable\""
   ]
  },
  {
   "cell_type": "code",
   "execution_count": 0,
   "metadata": {
    "application/vnd.databricks.v1+cell": {
     "cellMetadata": {
      "byteLimit": 2048000,
      "rowLimit": 10000
     },
     "inputWidgets": {},
     "nuid": "9b876b97-2c57-4c02-a902-78e80b7625a1",
     "showTitle": false,
     "tableResultSettingsMap": {},
     "title": ""
    }
   },
   "outputs": [
    {
     "output_type": "display_data",
     "data": {
      "text/html": [
       "<style scoped>\n",
       "  .table-result-container {\n",
       "    max-height: 300px;\n",
       "    overflow: auto;\n",
       "  }\n",
       "  table, th, td {\n",
       "    border: 1px solid black;\n",
       "    border-collapse: collapse;\n",
       "  }\n",
       "  th, td {\n",
       "    padding: 5px;\n",
       "  }\n",
       "  th {\n",
       "    text-align: left;\n",
       "  }\n",
       "</style><div class='table-result-container'><table class='table-result'><thead style='background-color: white'><tr><th>StudentID</th><th>Major</th><th>HomeState</th></tr></thead><tbody><tr><td>1</td><td>Computer Science</td><td>North Dakota</td></tr><tr><td>2</td><td>Computer Science</td><td>Minnesota</td></tr><tr><td>3</td><td>Computer Science</td><td>Minnesota</td></tr><tr><td>4</td><td>Computer Science</td><td>North Dakota</td></tr><tr><td>5</td><td>Computer Science</td><td>Montana</td></tr><tr><td>6</td><td>Computer Science</td><td>Minnesota</td></tr><tr><td>7</td><td>Computer Science</td><td>Minnesota</td></tr><tr><td>8</td><td>Computer Engineering</td><td>Montana</td></tr><tr><td>9</td><td>Other</td><td>North Dakota</td></tr><tr><td>10</td><td>Computer Science</td><td>North Dakota</td></tr><tr><td>11</td><td>Computer Science</td><td>Montana</td></tr><tr><td>12</td><td>Other</td><td>Minnesota</td></tr><tr><td>13</td><td>Computer Engineering</td><td>North Dakota</td></tr><tr><td>14</td><td>Other</td><td>Montana</td></tr><tr><td>15</td><td>Computer Science</td><td>Minnesota</td></tr><tr><td>16</td><td>Computer Science</td><td>Minnesota</td></tr><tr><td>17</td><td>Computer Science</td><td>North Dakota</td></tr><tr><td>18</td><td>Computer Science</td><td>Other</td></tr><tr><td>19</td><td>Computer Science</td><td>Minnesota</td></tr><tr><td>20</td><td>Other</td><td>North Dakota</td></tr><tr><td>21</td><td>Computer Science</td><td>North Dakota</td></tr><tr><td>22</td><td>Computer Science</td><td>North Dakota</td></tr><tr><td>23</td><td>Computer Science</td><td>North Dakota</td></tr><tr><td>24</td><td>Computer Engineering</td><td>Other</td></tr><tr><td>25</td><td>Computer Science</td><td>North Dakota</td></tr><tr><td>26</td><td>Computer Engineering</td><td>Minnesota</td></tr><tr><td>27</td><td>Computer Science</td><td>Minnesota</td></tr><tr><td>28</td><td>Other</td><td>Minnesota</td></tr><tr><td>29</td><td>Computer Science</td><td>North Dakota</td></tr><tr><td>30</td><td>Computer Science</td><td>North Dakota</td></tr><tr><td>31</td><td>Computer Science</td><td>North Dakota</td></tr><tr><td>32</td><td>Computer Engineering</td><td>Minnesota</td></tr><tr><td>33</td><td>Computer Science</td><td>North Dakota</td></tr><tr><td>34</td><td>Computer Science</td><td>Minnesota</td></tr><tr><td>35</td><td>Computer Science</td><td>Minnesota</td></tr><tr><td>36</td><td>Computer Science</td><td>North Dakota</td></tr><tr><td>37</td><td>Computer Science</td><td>Other</td></tr><tr><td>38</td><td>Computer Engineering</td><td>Minnesota</td></tr><tr><td>39</td><td>Computer Science</td><td>Other</td></tr><tr><td>40</td><td>Computer Science</td><td>Minnesota</td></tr><tr><td>41</td><td>Computer Science</td><td>North Dakota</td></tr><tr><td>42</td><td>Computer Science</td><td>North Dakota</td></tr><tr><td>43</td><td>Computer Science</td><td>North Dakota</td></tr><tr><td>44</td><td>Computer Science</td><td>North Dakota</td></tr><tr><td>45</td><td>Computer Science</td><td>Minnesota</td></tr><tr><td>46</td><td>Computer Science</td><td>Minnesota</td></tr><tr><td>47</td><td>Computer Science</td><td>North Dakota</td></tr><tr><td>48</td><td>Computer Engineering</td><td>Minnesota</td></tr><tr><td>49</td><td>Computer Science</td><td>Minnesota</td></tr><tr><td>50</td><td>Computer Science</td><td>Minnesota</td></tr></tbody></table></div>"
      ]
     },
     "metadata": {
      "application/vnd.databricks.v1+output": {
       "addedWidgets": {},
       "aggData": [],
       "aggError": "",
       "aggOverflow": false,
       "aggSchema": [],
       "aggSeriesLimitReached": false,
       "aggType": "",
       "arguments": {},
       "columnCustomDisplayInfos": {},
       "data": [
        [
         1,
         "Computer Science",
         "North Dakota"
        ],
        [
         2,
         "Computer Science",
         "Minnesota"
        ],
        [
         3,
         "Computer Science",
         "Minnesota"
        ],
        [
         4,
         "Computer Science",
         "North Dakota"
        ],
        [
         5,
         "Computer Science",
         "Montana"
        ],
        [
         6,
         "Computer Science",
         "Minnesota"
        ],
        [
         7,
         "Computer Science",
         "Minnesota"
        ],
        [
         8,
         "Computer Engineering",
         "Montana"
        ],
        [
         9,
         "Other",
         "North Dakota"
        ],
        [
         10,
         "Computer Science",
         "North Dakota"
        ],
        [
         11,
         "Computer Science",
         "Montana"
        ],
        [
         12,
         "Other",
         "Minnesota"
        ],
        [
         13,
         "Computer Engineering",
         "North Dakota"
        ],
        [
         14,
         "Other",
         "Montana"
        ],
        [
         15,
         "Computer Science",
         "Minnesota"
        ],
        [
         16,
         "Computer Science",
         "Minnesota"
        ],
        [
         17,
         "Computer Science",
         "North Dakota"
        ],
        [
         18,
         "Computer Science",
         "Other"
        ],
        [
         19,
         "Computer Science",
         "Minnesota"
        ],
        [
         20,
         "Other",
         "North Dakota"
        ],
        [
         21,
         "Computer Science",
         "North Dakota"
        ],
        [
         22,
         "Computer Science",
         "North Dakota"
        ],
        [
         23,
         "Computer Science",
         "North Dakota"
        ],
        [
         24,
         "Computer Engineering",
         "Other"
        ],
        [
         25,
         "Computer Science",
         "North Dakota"
        ],
        [
         26,
         "Computer Engineering",
         "Minnesota"
        ],
        [
         27,
         "Computer Science",
         "Minnesota"
        ],
        [
         28,
         "Other",
         "Minnesota"
        ],
        [
         29,
         "Computer Science",
         "North Dakota"
        ],
        [
         30,
         "Computer Science",
         "North Dakota"
        ],
        [
         31,
         "Computer Science",
         "North Dakota"
        ],
        [
         32,
         "Computer Engineering",
         "Minnesota"
        ],
        [
         33,
         "Computer Science",
         "North Dakota"
        ],
        [
         34,
         "Computer Science",
         "Minnesota"
        ],
        [
         35,
         "Computer Science",
         "Minnesota"
        ],
        [
         36,
         "Computer Science",
         "North Dakota"
        ],
        [
         37,
         "Computer Science",
         "Other"
        ],
        [
         38,
         "Computer Engineering",
         "Minnesota"
        ],
        [
         39,
         "Computer Science",
         "Other"
        ],
        [
         40,
         "Computer Science",
         "Minnesota"
        ],
        [
         41,
         "Computer Science",
         "North Dakota"
        ],
        [
         42,
         "Computer Science",
         "North Dakota"
        ],
        [
         43,
         "Computer Science",
         "North Dakota"
        ],
        [
         44,
         "Computer Science",
         "North Dakota"
        ],
        [
         45,
         "Computer Science",
         "Minnesota"
        ],
        [
         46,
         "Computer Science",
         "Minnesota"
        ],
        [
         47,
         "Computer Science",
         "North Dakota"
        ],
        [
         48,
         "Computer Engineering",
         "Minnesota"
        ],
        [
         49,
         "Computer Science",
         "Minnesota"
        ],
        [
         50,
         "Computer Science",
         "Minnesota"
        ]
       ],
       "datasetInfos": [],
       "dbfsResultPath": null,
       "isJsonSchema": true,
       "metadata": {},
       "overflow": false,
       "plotOptions": {
        "customPlotOptions": {},
        "displayType": "table",
        "pivotAggregation": null,
        "pivotColumns": null,
        "xColumns": null,
        "yColumns": null
       },
       "removedWidgets": [],
       "schema": [
        {
         "metadata": "{}",
         "name": "StudentID",
         "type": "\"integer\""
        },
        {
         "metadata": "{}",
         "name": "Major",
         "type": "\"string\""
        },
        {
         "metadata": "{}",
         "name": "HomeState",
         "type": "\"string\""
        }
       ],
       "type": "table"
      }
     },
     "output_type": "display_data"
    }
   ],
   "source": [
    "# Populate the data.  Read the student info CSV file and save it.\n",
    "from pyspark.sql.types import StructType, StructField, StringType, IntegerType, FloatType\n",
    "\n",
    "file_schema = StructType([StructField(\"StudentID\", IntegerType(), True), \\\n",
    "                    StructField(\"Major\", StringType(), True), \\\n",
    "                    StructField(\"HomeState\", StringType(), True) ])\n",
    "students_df = spark.read.options(delimiter=',', header=True).schema(file_schema).csv(uri+\"StudentInfo.csv\")\n",
    "\n",
    "display(students_df)\n"
   ]
  },
  {
   "cell_type": "code",
   "execution_count": 0,
   "metadata": {
    "application/vnd.databricks.v1+cell": {
     "cellMetadata": {
      "byteLimit": 2048000,
      "rowLimit": 10000
     },
     "inputWidgets": {},
     "nuid": "f55bc79a-bd5b-4c4b-a2ff-de915514215f",
     "showTitle": false,
     "tableResultSettingsMap": {},
     "title": ""
    }
   },
   "outputs": [],
   "source": [
    "# Save using delta lake syntax\n",
    "students_df.write.format(\"delta\").mode(\"overwrite\").option(\"mergeSchema\", \"true\").save(uri + \"DIM_StudentInfoTable\")"
   ]
  },
  {
   "cell_type": "code",
   "execution_count": 0,
   "metadata": {
    "application/vnd.databricks.v1+cell": {
     "cellMetadata": {
      "byteLimit": 2048000,
      "implicitDf": true,
      "rowLimit": 10000
     },
     "inputWidgets": {},
     "nuid": "0b8bb96d-f684-4a53-93c3-7f68bf02abe3",
     "showTitle": false,
     "tableResultSettingsMap": {},
     "title": ""
    }
   },
   "outputs": [
    {
     "output_type": "display_data",
     "data": {
      "text/html": [
       "<style scoped>\n",
       "  .table-result-container {\n",
       "    max-height: 300px;\n",
       "    overflow: auto;\n",
       "  }\n",
       "  table, th, td {\n",
       "    border: 1px solid black;\n",
       "    border-collapse: collapse;\n",
       "  }\n",
       "  th, td {\n",
       "    padding: 5px;\n",
       "  }\n",
       "  th {\n",
       "    text-align: left;\n",
       "  }\n",
       "</style><div class='table-result-container'><table class='table-result'><thead style='background-color: white'><tr><th>StudentID</th><th>Major</th><th>HomeState</th></tr></thead><tbody><tr><td>2</td><td>Computer Science</td><td>Minnesota</td></tr><tr><td>3</td><td>Computer Science</td><td>Minnesota</td></tr><tr><td>6</td><td>Computer Science</td><td>Minnesota</td></tr><tr><td>7</td><td>Computer Science</td><td>Minnesota</td></tr><tr><td>12</td><td>Other</td><td>Minnesota</td></tr><tr><td>15</td><td>Computer Science</td><td>Minnesota</td></tr><tr><td>16</td><td>Computer Science</td><td>Minnesota</td></tr><tr><td>19</td><td>Computer Science</td><td>Minnesota</td></tr><tr><td>26</td><td>Computer Engineering</td><td>Minnesota</td></tr><tr><td>27</td><td>Computer Science</td><td>Minnesota</td></tr><tr><td>28</td><td>Other</td><td>Minnesota</td></tr><tr><td>32</td><td>Computer Engineering</td><td>Minnesota</td></tr><tr><td>34</td><td>Computer Science</td><td>Minnesota</td></tr><tr><td>35</td><td>Computer Science</td><td>Minnesota</td></tr><tr><td>38</td><td>Computer Engineering</td><td>Minnesota</td></tr><tr><td>40</td><td>Computer Science</td><td>Minnesota</td></tr><tr><td>45</td><td>Computer Science</td><td>Minnesota</td></tr><tr><td>46</td><td>Computer Science</td><td>Minnesota</td></tr><tr><td>48</td><td>Computer Engineering</td><td>Minnesota</td></tr><tr><td>49</td><td>Computer Science</td><td>Minnesota</td></tr><tr><td>50</td><td>Computer Science</td><td>Minnesota</td></tr></tbody></table></div>"
      ]
     },
     "metadata": {
      "application/vnd.databricks.v1+output": {
       "addedWidgets": {},
       "aggData": [],
       "aggError": "",
       "aggOverflow": false,
       "aggSchema": [],
       "aggSeriesLimitReached": false,
       "aggType": "",
       "arguments": {},
       "columnCustomDisplayInfos": {},
       "data": [
        [
         2,
         "Computer Science",
         "Minnesota"
        ],
        [
         3,
         "Computer Science",
         "Minnesota"
        ],
        [
         6,
         "Computer Science",
         "Minnesota"
        ],
        [
         7,
         "Computer Science",
         "Minnesota"
        ],
        [
         12,
         "Other",
         "Minnesota"
        ],
        [
         15,
         "Computer Science",
         "Minnesota"
        ],
        [
         16,
         "Computer Science",
         "Minnesota"
        ],
        [
         19,
         "Computer Science",
         "Minnesota"
        ],
        [
         26,
         "Computer Engineering",
         "Minnesota"
        ],
        [
         27,
         "Computer Science",
         "Minnesota"
        ],
        [
         28,
         "Other",
         "Minnesota"
        ],
        [
         32,
         "Computer Engineering",
         "Minnesota"
        ],
        [
         34,
         "Computer Science",
         "Minnesota"
        ],
        [
         35,
         "Computer Science",
         "Minnesota"
        ],
        [
         38,
         "Computer Engineering",
         "Minnesota"
        ],
        [
         40,
         "Computer Science",
         "Minnesota"
        ],
        [
         45,
         "Computer Science",
         "Minnesota"
        ],
        [
         46,
         "Computer Science",
         "Minnesota"
        ],
        [
         48,
         "Computer Engineering",
         "Minnesota"
        ],
        [
         49,
         "Computer Science",
         "Minnesota"
        ],
        [
         50,
         "Computer Science",
         "Minnesota"
        ]
       ],
       "datasetInfos": [],
       "dbfsResultPath": null,
       "isJsonSchema": true,
       "metadata": {
        "createTempViewForImplicitDf": true,
        "dataframeName": "_sqldf",
        "executionCount": 23
       },
       "overflow": false,
       "plotOptions": {
        "customPlotOptions": {},
        "displayType": "table",
        "pivotAggregation": null,
        "pivotColumns": null,
        "xColumns": null,
        "yColumns": null
       },
       "removedWidgets": [],
       "schema": [
        {
         "metadata": "{}",
         "name": "StudentID",
         "type": "\"integer\""
        },
        {
         "metadata": "{}",
         "name": "Major",
         "type": "\"string\""
        },
        {
         "metadata": "{}",
         "name": "HomeState",
         "type": "\"string\""
        }
       ],
       "type": "table"
      }
     },
     "output_type": "display_data"
    }
   ],
   "source": [
    "%sql\n",
    "-- Get data\n",
    "SELECT * FROM grades.dim_student_info WHERE HomeState='Minnesota'\n"
   ]
  },
  {
   "cell_type": "code",
   "execution_count": 0,
   "metadata": {
    "application/vnd.databricks.v1+cell": {
     "cellMetadata": {
      "byteLimit": 2048000,
      "rowLimit": 10000
     },
     "inputWidgets": {},
     "nuid": "5c5f4aed-0191-4ae7-a1cd-44bb25cca66b",
     "showTitle": false,
     "tableResultSettingsMap": {},
     "title": ""
    }
   },
   "outputs": [
    {
     "output_type": "display_data",
     "data": {
      "text/html": [
       "<style scoped>\n",
       "  .table-result-container {\n",
       "    max-height: 300px;\n",
       "    overflow: auto;\n",
       "  }\n",
       "  table, th, td {\n",
       "    border: 1px solid black;\n",
       "    border-collapse: collapse;\n",
       "  }\n",
       "  th, td {\n",
       "    padding: 5px;\n",
       "  }\n",
       "  th {\n",
       "    text-align: left;\n",
       "  }\n",
       "</style><div class='table-result-container'><table class='table-result'><thead style='background-color: white'><tr><th>StudentID</th><th>Major</th><th>HomeState</th></tr></thead><tbody><tr><td>2</td><td>Computer Science</td><td>Minnesota</td></tr><tr><td>3</td><td>Computer Science</td><td>Minnesota</td></tr><tr><td>6</td><td>Computer Science</td><td>Minnesota</td></tr><tr><td>7</td><td>Computer Science</td><td>Minnesota</td></tr><tr><td>12</td><td>Other</td><td>Minnesota</td></tr><tr><td>15</td><td>Computer Science</td><td>Minnesota</td></tr><tr><td>16</td><td>Computer Science</td><td>Minnesota</td></tr><tr><td>19</td><td>Computer Science</td><td>Minnesota</td></tr><tr><td>26</td><td>Computer Engineering</td><td>Minnesota</td></tr><tr><td>27</td><td>Computer Science</td><td>Minnesota</td></tr><tr><td>28</td><td>Other</td><td>Minnesota</td></tr><tr><td>32</td><td>Computer Engineering</td><td>Minnesota</td></tr><tr><td>34</td><td>Computer Science</td><td>Minnesota</td></tr><tr><td>35</td><td>Computer Science</td><td>Minnesota</td></tr><tr><td>38</td><td>Computer Engineering</td><td>Minnesota</td></tr><tr><td>40</td><td>Computer Science</td><td>Minnesota</td></tr><tr><td>45</td><td>Computer Science</td><td>Minnesota</td></tr><tr><td>46</td><td>Computer Science</td><td>Minnesota</td></tr><tr><td>48</td><td>Computer Engineering</td><td>Minnesota</td></tr><tr><td>49</td><td>Computer Science</td><td>Minnesota</td></tr><tr><td>50</td><td>Computer Science</td><td>Minnesota</td></tr></tbody></table></div>"
      ]
     },
     "metadata": {
      "application/vnd.databricks.v1+output": {
       "addedWidgets": {},
       "aggData": [],
       "aggError": "",
       "aggOverflow": false,
       "aggSchema": [],
       "aggSeriesLimitReached": false,
       "aggType": "",
       "arguments": {},
       "columnCustomDisplayInfos": {},
       "data": [
        [
         2,
         "Computer Science",
         "Minnesota"
        ],
        [
         3,
         "Computer Science",
         "Minnesota"
        ],
        [
         6,
         "Computer Science",
         "Minnesota"
        ],
        [
         7,
         "Computer Science",
         "Minnesota"
        ],
        [
         12,
         "Other",
         "Minnesota"
        ],
        [
         15,
         "Computer Science",
         "Minnesota"
        ],
        [
         16,
         "Computer Science",
         "Minnesota"
        ],
        [
         19,
         "Computer Science",
         "Minnesota"
        ],
        [
         26,
         "Computer Engineering",
         "Minnesota"
        ],
        [
         27,
         "Computer Science",
         "Minnesota"
        ],
        [
         28,
         "Other",
         "Minnesota"
        ],
        [
         32,
         "Computer Engineering",
         "Minnesota"
        ],
        [
         34,
         "Computer Science",
         "Minnesota"
        ],
        [
         35,
         "Computer Science",
         "Minnesota"
        ],
        [
         38,
         "Computer Engineering",
         "Minnesota"
        ],
        [
         40,
         "Computer Science",
         "Minnesota"
        ],
        [
         45,
         "Computer Science",
         "Minnesota"
        ],
        [
         46,
         "Computer Science",
         "Minnesota"
        ],
        [
         48,
         "Computer Engineering",
         "Minnesota"
        ],
        [
         49,
         "Computer Science",
         "Minnesota"
        ],
        [
         50,
         "Computer Science",
         "Minnesota"
        ]
       ],
       "datasetInfos": [],
       "dbfsResultPath": null,
       "isJsonSchema": true,
       "metadata": {},
       "overflow": false,
       "plotOptions": {
        "customPlotOptions": {},
        "displayType": "table",
        "pivotAggregation": null,
        "pivotColumns": null,
        "xColumns": null,
        "yColumns": null
       },
       "removedWidgets": [],
       "schema": [
        {
         "metadata": "{}",
         "name": "StudentID",
         "type": "\"integer\""
        },
        {
         "metadata": "{}",
         "name": "Major",
         "type": "\"string\""
        },
        {
         "metadata": "{}",
         "name": "HomeState",
         "type": "\"string\""
        }
       ],
       "type": "table"
      }
     },
     "output_type": "display_data"
    }
   ],
   "source": [
    "\n",
    "my_df = _sqldf\n",
    "\n",
    "display(my_df)"
   ]
  }
 ],
 "metadata": {
  "application/vnd.databricks.v1+notebook": {
   "computePreferences": null,
   "dashboards": [],
   "environmentMetadata": {
    "base_environment": "",
    "environment_version": "2"
   },
   "language": "python",
   "notebookMetadata": {
    "mostRecentlyExecutedCommandWithImplicitDF": {
     "commandId": 7622909604429754,
     "dataframes": [
      "_sqldf"
     ]
    },
    "pythonIndentUnit": 4
   },
   "notebookName": "DeltaTableCreateExamples",
   "widgets": {}
  },
  "language_info": {
   "name": "python"
  }
 },
 "nbformat": 4,
 "nbformat_minor": 0
}
